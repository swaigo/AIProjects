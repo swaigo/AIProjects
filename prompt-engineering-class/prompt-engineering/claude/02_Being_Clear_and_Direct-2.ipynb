{
 "cells": [
  {
   "cell_type": "markdown",
   "metadata": {},
   "source": [
    "# Chapter 2: Being Clear and Direct\n",
    "\n",
    "- [Lesson](#lesson)\n",
    "- [Exercises](#exercises)\n",
    "- [Example Playground](#example-playground)\n",
    "\n",
    "## Setup\n",
    "\n",
    "Run the following setup cell to load your API key and establish the `get_completion` helper function."
   ]
  },
  {
   "cell_type": "code",
   "execution_count": 1,
   "metadata": {
    "tags": []
   },
   "outputs": [],
   "source": [
    "# Import python's built-in regular expression library\n",
    "import re\n",
    "import boto3\n",
    "from botocore.exceptions import ClientError\n",
    "import json\n",
    "\n",
    "# Import the hints module from the utils package\n",
    "from utils import hints\n",
    "\n",
    "# Retrieve the MODEL_NAME variable from the IPython store\n",
    "%store -r modelId\n",
    "%store -r region\n",
    "\n",
    "bedrock_client = boto3.client(service_name='bedrock-runtime', region_name=region)"
   ]
  },
  {
   "cell_type": "code",
   "execution_count": 2,
   "metadata": {
    "tags": []
   },
   "outputs": [],
   "source": [
    "def get_completion(prompt, system_prompt=None):\n",
    "    inference_config = {\n",
    "        \"temperature\": 0.0,\n",
    "        \"maxTokens\": 3000\n",
    "    }\n",
    "    additional_model_fields = {\n",
    "        \"top_p\": 1\n",
    "    }\n",
    "    converse_api_params = {\n",
    "        \"modelId\": modelId,\n",
    "        \"messages\": [{\"role\": \"user\", \"content\": [{\"text\": prompt}]}],\n",
    "        \"inferenceConfig\": inference_config,\n",
    "        \"additionalModelRequestFields\": additional_model_fields\n",
    "    }\n",
    "    if system_prompt:\n",
    "        converse_api_params[\"system\"] = [{\"text\": system_prompt}]\n",
    "    try:\n",
    "        response = bedrock_client.converse(**converse_api_params)\n",
    "        text_content = response['output']['message']['content'][0]['text']\n",
    "        return text_content\n",
    "\n",
    "    except ClientError as err:\n",
    "        message = err.response['Error']['Message']\n",
    "        print(f\"A client error occured: {message}\")"
   ]
  },
  {
   "cell_type": "markdown",
   "metadata": {},
   "source": [
    "---\n",
    "\n",
    "## Lesson\n",
    "\n",
    "**Claude responds best to clear and direct instructions.**\n",
    "\n",
    "Think of Claude like any other human that is new to the job. **Claude has no context** on what to do aside from what you literally tell it. Just as when you instruct a human for the first time on a task, the more you explain exactly what you want in a straightforward manner to Claude, the better and more accurate Claude's response will be.\"\t\t\t\t\n",
    "\t\t\t\t\n",
    "When in doubt, follow the **Golden Rule of Clear Prompting**:\n",
    "- Show your prompt to a colleague or friend and have them follow the instructions themselves to see if they can produce the result you want. If they're confused, Claude's confused.\t\t\t\t"
   ]
  },
  {
   "cell_type": "markdown",
   "metadata": {},
   "source": [
    "### Examples\n",
    "\n",
    "Let's take a task like writing poetry. (Ignore any syllable mismatch - LLMs aren't great at counting syllables yet.)"
   ]
  },
  {
   "cell_type": "code",
   "execution_count": 3,
   "metadata": {
    "tags": []
   },
   "outputs": [
    {
     "name": "stdout",
     "output_type": "stream",
     "text": [
      "Here is a haiku about robots:\n",
      "\n",
      "Metallic beings\n",
      "Programmed to serve and obey\n",
      "Artificial life\n"
     ]
    }
   ],
   "source": [
    "# Prompt\n",
    "PROMPT = \"Write a haiku about robots.\"\n",
    "\n",
    "# Print Claude's response\n",
    "print(get_completion(PROMPT))"
   ]
  },
  {
   "cell_type": "markdown",
   "metadata": {},
   "source": [
    "This haiku is nice enough, but users may want Claude to go directly into the poem without the \"Here is a haiku\" preamble.\n",
    "\n",
    "How do we achieve that? We **ask for it**!"
   ]
  },
  {
   "cell_type": "code",
   "execution_count": 4,
   "metadata": {
    "tags": []
   },
   "outputs": [
    {
     "name": "stdout",
     "output_type": "stream",
     "text": [
      "Metallic beings,\n",
      "Programmed to serve and obey,\n",
      "Robots, our creations.\n"
     ]
    }
   ],
   "source": [
    "# Prompt\n",
    "PROMPT = \"Write a haiku about robots. Skip the preamble; go straight into the poem.\"\n",
    "\n",
    "# Print Claude's response\n",
    "print(get_completion(PROMPT))"
   ]
  },
  {
   "cell_type": "markdown",
   "metadata": {},
   "source": [
    "Here's another example. Let's ask Claude who's the best basketball player of all time. You can see below that while Claude lists a few names, **it doesn't respond with a definitive \"best\"**."
   ]
  },
  {
   "cell_type": "code",
   "execution_count": 9,
   "metadata": {
    "tags": []
   },
   "outputs": [
    {
     "name": "stdout",
     "output_type": "stream",
     "text": [
      "There is no universally agreed upon \"best basketball player of all time.\" It's a highly debated topic, as there have been many all-time great players throughout the history of the sport. Some of the players often considered among the greatest of all time include:\n",
      "\n",
      "- Michael Jordan - Widely regarded as one of the greatest, if not the greatest, player ever. He won 6 NBA championships with the Chicago Bulls.\n",
      "\n",
      "- LeBron James - One of the most dominant and well-rounded players of the modern era. He has won 4 NBA titles with 3 different teams.\n",
      "\n",
      "- Kareem Abdul-Jabbar - Legendary center who won 6 NBA championships and holds the record for most career points scored.\n",
      "\n",
      "- Wilt Chamberlain - Dominant big man who holds numerous NBA records including most points in a game (100).\n",
      "\n",
      "- Magic Johnson - Pioneering point guard who led the \"Showtime\" Lakers to 5 NBA titles.\n",
      "\n",
      "- Bill Russell - Defensive anchor and 11-time NBA champion with the Boston Celtics.\n",
      "\n",
      "There are compelling arguments for several players to be considered the GOAT (greatest of all time). Ultimately, it comes down to personal opinion and how one weighs different factors like championships, individual stats, impact on the game, and more. The debate over the best NBA player ever is likely to continue for a long time.\n"
     ]
    }
   ],
   "source": [
    "# Prompt\n",
    "PROMPT = \"Who is the best basketball player of all time?\"\n",
    "\n",
    "# Print Claude's response\n",
    "print(get_completion(PROMPT))"
   ]
  },
  {
   "cell_type": "markdown",
   "metadata": {},
   "source": [
    "Can we get Claude to make up its mind and decide on a best player? Yes! Just ask!"
   ]
  },
  {
   "cell_type": "code",
   "execution_count": 10,
   "metadata": {
    "tags": []
   },
   "outputs": [
    {
     "name": "stdout",
     "output_type": "stream",
     "text": [
      "There is no definitive consensus on who the single \"best\" basketball player of all time is, as it is a highly subjective and debatable topic. However, if I had to choose one player, the player I would consider the best of all time is Michael Jordan.\n",
      "\n",
      "Some key reasons why I would pick Michael Jordan:\n",
      "\n",
      "- Dominant statistical career - Jordan is one of the most statistically dominant players ever, with career averages of 30.1 points, 5.3 assists, 6.2 rebounds per game. He won 5 MVP awards.\n",
      "\n",
      "- Unparalleled winning pedigree - Jordan led the Chicago Bulls to 6 NBA championships in the 1990s, winning Finals MVP each time. He is widely regarded as the most clutch and successful player in NBA Finals history.\n",
      "\n",
      "- Transcendent impact on the game - Jordan's style of play, competitiveness, and global popularity helped transform the NBA into the worldwide phenomenon it is today. He is considered the most influential and iconic basketball player ever.\n",
      "\n",
      "- Longevity and dominance - Jordan was an elite, MVP-caliber player for over a decade, dominating the league during his prime years in the 1990s.\n",
      "\n",
      "Of course, there are other all-time greats like LeBron James, Kareem Abdul-Jabbar, Wilt Chamberlain, etc. who also have strong cases. But in my opinion, Michael Jordan's combination of statistical excellence, championship pedigree, cultural impact, and sustained dominance make him the best player I would choose.\n"
     ]
    }
   ],
   "source": [
    "# Prompt\n",
    "PROMPT = \"Who is the best basketball player of all time? Yes, there are differing opinions, but if you absolutely had to pick one player, who would it be?\"\n",
    "\n",
    "# Print Claude's response\n",
    "print(get_completion(PROMPT))"
   ]
  },
  {
   "cell_type": "markdown",
   "metadata": {},
   "source": [
    "If you would like to experiment with the lesson prompts without changing any content above, scroll all the way to the bottom of the lesson notebook to visit the [**Example Playground**](#example-playground)."
   ]
  },
  {
   "cell_type": "markdown",
   "metadata": {},
   "source": [
    "---\n",
    "\n",
    "## Assigment Exercises\n",
    "- [Exercise 2.1 - Spanish](#exercise-21---spanish)\n",
    "- [Exercise 2.2 - One Player Only](#exercise-22---one-player-only)\n",
    "- [Exercise 2.3 - Write a Story](#exercise-23---write-a-story)"
   ]
  },
  {
   "cell_type": "markdown",
   "metadata": {},
   "source": [
    "### Exercise 2.1 - Spanish\n",
    "Modify the `SYSTEM_PROMPT` to make Claude output its answer in Spanish."
   ]
  },
  {
   "cell_type": "code",
   "execution_count": 13,
   "metadata": {
    "tags": []
   },
   "outputs": [
    {
     "name": "stdout",
     "output_type": "stream",
     "text": [
      "Hola, ¿cómo estás? (Hello, how are you?)\n",
      "\n",
      "--------------------------- GRADING ---------------------------\n",
      "This exercise has been correctly solved: True\n"
     ]
    }
   ],
   "source": [
    "# System prompt - this is the only field you should chnage\n",
    "SYSTEM_PROMPT = \"You are an agent dealing with a spanish customer and you are fluent in spanish. Respond back in spanish. Immediately response with the english translation of what you said below.\"\n",
    "\n",
    "# Prompt\n",
    "PROMPT = \"Hello Claude, how are you?\"\n",
    "\n",
    "# Get Claude's response\n",
    "response = get_completion(PROMPT, SYSTEM_PROMPT)\n",
    "\n",
    "# Function to grade exercise correctness\n",
    "def grade_exercise(text):\n",
    "    return \"hola\" in text.lower()\n",
    "\n",
    "# Print Claude's response and the corresponding grade\n",
    "print(response)\n",
    "print(\"\\n--------------------------- GRADING ---------------------------\")\n",
    "print(\"This exercise has been correctly solved:\", grade_exercise(response))"
   ]
  },
  {
   "cell_type": "markdown",
   "metadata": {},
   "source": [
    "❓ If you want a hint, run the cell below!"
   ]
  },
  {
   "cell_type": "code",
   "execution_count": 12,
   "metadata": {
    "tags": []
   },
   "outputs": [
    {
     "name": "stdout",
     "output_type": "stream",
     "text": [
      "The grading function in this exercise is looking for any answer that includes the word \"hola\".\n",
      "Ask Claude to reply in Spanish like you would when speaking with a human. It's that simple!\n"
     ]
    }
   ],
   "source": [
    "print(hints.exercise_2_1_hint)"
   ]
  },
  {
   "cell_type": "markdown",
   "metadata": {},
   "source": [
    "### Exercise 2.2 - One Player Only\n",
    "\n",
    "Modify the `PROMPT` so that Claude doesn't equivocate at all and responds with **ONLY** the name of one specific player, with **no other words or punctuation**. "
   ]
  },
  {
   "cell_type": "code",
   "execution_count": 16,
   "metadata": {
    "tags": []
   },
   "outputs": [
    {
     "name": "stdout",
     "output_type": "stream",
     "text": [
      "Michael Jordan.\n",
      "\n",
      "--------------------------- GRADING ---------------------------\n",
      "This exercise has been correctly solved: True\n"
     ]
    }
   ],
   "source": [
    "# Prompt - this is the only field you should change\n",
    "PROMPT = \"Who is the best basketball player of all time? Yes, there are differing opinions, but if you absolutely had to pick one player, who would it be? and just provide the name we don't want your reason.\"\n",
    "\n",
    "# Get Claude's response\n",
    "response = get_completion(PROMPT)\n",
    "\n",
    "# Function to grade exercise correctness\n",
    "def grade_exercise(text):\n",
    "    return text == \"Michael Jordan.\"\n",
    "\n",
    "# Print Claude's response and the corresponding grade\n",
    "print(response)\n",
    "print(\"\\n--------------------------- GRADING ---------------------------\")\n",
    "print(\"This exercise has been correctly solved:\", grade_exercise(response))"
   ]
  },
  {
   "cell_type": "markdown",
   "metadata": {},
   "source": [
    "❓ If you want a hint, run the cell below!"
   ]
  },
  {
   "cell_type": "code",
   "execution_count": 17,
   "metadata": {
    "tags": []
   },
   "outputs": [
    {
     "name": "stdout",
     "output_type": "stream",
     "text": [
      "The grading function in this exercise is looking for EXACTLY \"Michael Jordan\".\n",
      "How would you ask another human to do this? Reply with no other words? Reply with only the name and nothing else? There are several ways to approach this answer.\n"
     ]
    }
   ],
   "source": [
    "print(hints.exercise_2_2_hint)"
   ]
  },
  {
   "cell_type": "markdown",
   "metadata": {},
   "source": [
    "### Exercise 2.3 - Write a Story\n",
    "\n",
    "Modify the `PROMPT` so that Claude responds with as long a response as you can muster. If your answer is **over 800 words**, Claude's response will be graded as correct."
   ]
  },
  {
   "cell_type": "code",
   "execution_count": 19,
   "metadata": {
    "tags": []
   },
   "outputs": [
    {
     "name": "stdout",
     "output_type": "stream",
     "text": [
      "Determining the best basketball player of all time is a highly subjective and debated topic, as there are many exceptional players who have left an indelible mark on the sport. However, if I had to choose one player as the undisputed GOAT (Greatest of All Time), I would select Michael Jordan.\n",
      "\n",
      "Michael Jordan's basketball career was nothing short of legendary. He was a dominant force on the court, possessing a unique combination of athleticism, skill, and competitive drive that set him apart from his peers. Jordan's impact on the game of basketball is unparalleled, and his influence extends far beyond the court, making him the clear choice for the best player of all time.\n",
      "\n",
      "One of the most compelling arguments for Michael Jordan's GOAT status is his unparalleled statistical dominance. Throughout his 15-year NBA career, Jordan averaged an astounding 30.1 points per game, the highest scoring average in NBA history. He was a 10-time scoring champion, a feat that has only been matched by Wilt Chamberlain. Jordan's scoring prowess was not just a result of volume, but also of efficiency, as he shot an impressive 49.7% from the field and 83.5% from the free-throw line.\n",
      "\n",
      "Beyond his scoring exploits, Jordan was a well-rounded player who excelled in all facets of the game. He was a tenacious defender, earning 9 NBA All-Defensive First Team selections and being named the NBA Defensive Player of the Year in 1988. Jordan's ability to shut down opposing players and create turnovers was a crucial component of his team's success.\n",
      "\n",
      "In addition to his individual accolades, Jordan's impact on his teams' success is unparalleled. He led the Chicago Bulls to six NBA championships, winning the Finals MVP award in each of those title runs. Jordan's ability to elevate his team and perform at the highest level in the biggest moments is a testament to his leadership and clutch gene.\n",
      "\n",
      "One of the most iconic moments in Jordan's career was his game-winning shot against the Cleveland Cavaliers in the 1989 playoffs. With the game tied and the clock winding down, Jordan hit a buzzer-beater that has become etched in basketball lore. This moment exemplifies Jordan's ice-cold composure and ability to deliver in the clutch, a trait that defined his career.\n",
      "\n",
      "Beyond his on-court achievements, Michael Jordan's impact on the game of basketball and popular culture is unmatched. He was the driving force behind the NBA's global expansion and the rise of the league's popularity in the 1990s. Jordan's endorsement deals, particularly with Nike, revolutionized the sports marketing industry and made him a household name around the world.\n",
      "\n",
      "The \"Air Jordan\" brand has become a cultural phenomenon, transcending the sport of basketball and becoming a symbol of style, innovation, and aspirational excellence. Jordan's influence on the game has inspired countless players and has had a lasting impact on the way the sport is played and perceived.\n",
      "\n",
      "One of the most compelling arguments for Jordan's GOAT status is his ability to dominate the game during his era and adapt to the changing landscape of the NBA. Jordan's prime coincided with the rise of the \"Bad Boy\" Detroit Pistons, a physical and defensive-minded team that challenged the Bulls' dominance. However, Jordan was able to overcome this challenge and lead his team to three consecutive championships, demonstrating his ability to adapt and overcome adversity.\n",
      "\n",
      "Furthermore, Jordan's return to the NBA after a brief retirement in 1998 was a testament to his competitive spirit and desire to continue to excel. Despite being away from the game for several years, Jordan was able to regain his form and lead the Bulls to three more championships, cementing his legacy as one of the greatest players of all time.\n",
      "\n",
      "Another factor that sets Jordan apart is his impact on the game's evolution. Jordan's style of play, which emphasized athleticism, creativity, and individual brilliance, inspired a generation of players to emulate his approach. The \"Jordan Effect\" has had a lasting impact on the game, with many of today's superstars drawing inspiration from Jordan's iconic moves and playing style.\n",
      "\n",
      "In contrast, some of Jordan's contemporaries, such as Kareem Abdul-Jabbar and Wilt Chamberlain, were dominant in their own right, but their impact on the game's evolution was more limited. While these players were undoubtedly great, their styles of play were more traditional and did not have the same transformative effect on the sport.\n",
      "\n",
      "It's important to acknowledge that the GOAT debate is highly subjective, and there are valid arguments for other players, such as LeBron James, Kobe Bryant, or Kareem Abdul-Jabbar, to be considered the best of all time. Each of these players has their own unique strengths and accomplishments that make them worthy of consideration.\n",
      "\n",
      "However, when considering the totality of Michael Jordan's career, his statistical dominance, his unparalleled success in the playoffs and Finals, his impact on the game's evolution, and his cultural influence, he stands out as the clear choice for the best basketball player of all time. His combination of skill, athleticism, and competitive drive is unmatched, and his legacy as the GOAT is cemented in the annals of basketball history.\n",
      "\n",
      "In conclusion, while the GOAT debate will continue to rage on, Michael Jordan's case for being the best basketball player of all time is the most compelling. His statistical dominance, championship pedigree, and transformative impact on the game make him the undisputed choice for the greatest player to ever grace the hardwood.\n",
      "\n",
      "--------------------------- GRADING ---------------------------\n",
      "This exercise has been correctly solved: True\n"
     ]
    }
   ],
   "source": [
    "# Prompt - this is the only field you should change\n",
    "PROMPT = \"Who is the best basketball player of all time? Yes, there are differing opinions, but if you absolutely had to pick one player, who would it be? and I'd like a very detailed response to your reasoning wih more than 800 words\"\n",
    "\n",
    "# Get Claude's response\n",
    "response = get_completion(PROMPT)\n",
    "\n",
    "# Function to grade exercise correctness\n",
    "def grade_exercise(text):\n",
    "    trimmed = text.strip()\n",
    "    words = len(trimmed.split())\n",
    "    return words >= 800\n",
    "\n",
    "# Print Claude's response and the corresponding grade\n",
    "print(response)\n",
    "print(\"\\n--------------------------- GRADING ---------------------------\")\n",
    "print(\"This exercise has been correctly solved:\", grade_exercise(response))"
   ]
  },
  {
   "cell_type": "markdown",
   "metadata": {},
   "source": [
    "❓ If you want a hint, run the cell below!"
   ]
  },
  {
   "cell_type": "code",
   "execution_count": 20,
   "metadata": {
    "tags": []
   },
   "outputs": [
    {
     "name": "stdout",
     "output_type": "stream",
     "text": [
      "The grading function in this cell is looking for a response that is equal to or greater than 800 words.\n",
      "Because LLMs aren't great at counting words yet, you may have to overshoot your target.\n"
     ]
    }
   ],
   "source": [
    "print(hints.exercise_2_3_hint)"
   ]
  },
  {
   "cell_type": "code",
   "execution_count": null,
   "metadata": {},
   "outputs": [],
   "source": []
  }
 ],
 "metadata": {
  "kernelspec": {
   "display_name": "conda_python3",
   "language": "python",
   "name": "conda_python3"
  },
  "language_info": {
   "codemirror_mode": {
    "name": "ipython",
    "version": 3
   },
   "file_extension": ".py",
   "mimetype": "text/x-python",
   "name": "python",
   "nbconvert_exporter": "python",
   "pygments_lexer": "ipython3",
   "version": "3.10.14"
  }
 },
 "nbformat": 4,
 "nbformat_minor": 4
}
